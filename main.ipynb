{
 "cells": [
  {
   "cell_type": "markdown",
   "id": "8b0768b7",
   "metadata": {},
   "source": [
    "# Steps to be followed -\n",
    "\n",
    "## 1. Importing necessary libraries\n",
    "## 2. Creating S3 bucket\n",
    "## 3. Mapping train and test data in S3\n",
    "## 4. Mapping the path of the models in S3"
   ]
  },
  {
   "cell_type": "code",
   "execution_count": 32,
   "id": "55ff56ab",
   "metadata": {},
   "outputs": [],
   "source": [
    "import sagemaker #using sagemaker to install built-in algos - XGB\n",
    "import boto3 #local python files can also read bucket contents from boto3 (if public access is given)\n",
    "from sagemaker.amazon.amazon_estimator import get_image_uri\n",
    "from sagemaker.session import s3_input, Session #if we have to create instance, we have to create Session\n",
    "import numpy as np\n",
    "from sagemaker.predictor import csv_serializer"
   ]
  },
  {
   "cell_type": "code",
   "execution_count": 7,
   "id": "6631f071",
   "metadata": {},
   "outputs": [
    {
     "name": "stdout",
     "output_type": "stream",
     "text": [
      "us-west-1\n"
     ]
    }
   ],
   "source": [
    "bucket_name = 'new-bankapplication'\n",
    "my_region = boto3.session.Session().region_name #setting region of the instance\n",
    "print(my_region)"
   ]
  },
  {
   "cell_type": "code",
   "execution_count": 8,
   "id": "d44c731f",
   "metadata": {},
   "outputs": [
    {
     "data": {
      "text/plain": [
       "s3.Bucket(name='new-bankapplication')"
      ]
     },
     "execution_count": 8,
     "metadata": {},
     "output_type": "execute_result"
    }
   ],
   "source": [
    "s3 = boto3.resource('s3') #getting access of s3 bucket\n",
    "s3.create_bucket(Bucket=bucket_name,CreateBucketConfiguration={'LocationConstraint':'us-west-1'})"
   ]
  },
  {
   "cell_type": "code",
   "execution_count": 9,
   "id": "7fe70862",
   "metadata": {},
   "outputs": [
    {
     "name": "stdout",
     "output_type": "stream",
     "text": [
      "s3://new-bankapplication/xgboost-as-a-built-in-algo/output\n"
     ]
    }
   ],
   "source": [
    "#set an output path where trained model will be saved\n",
    "prefix = 'xgboost-as-a-built-in-algo'\n",
    "output_path='s3://{}/{}/output'.format(bucket_name, prefix)\n",
    "print(output_path)"
   ]
  },
  {
   "cell_type": "markdown",
   "id": "86611508",
   "metadata": {},
   "source": [
    "### Downloading the dataset and storing it in S3"
   ]
  },
  {
   "cell_type": "code",
   "execution_count": 11,
   "id": "f60579e7",
   "metadata": {},
   "outputs": [
    {
     "name": "stdout",
     "output_type": "stream",
     "text": [
      "Success download\n",
      "Success - download to dataframe\n"
     ]
    }
   ],
   "source": [
    "import pandas as pd\n",
    "import urllib\n",
    "try:\n",
    "    urllib.request.urlretrieve('https://d1.awsstatic.com/tmt/build-train-deploy-machine-learning-model-sagemaker/bank_clean.27f01fbbdf43271788427f3682996ae29ceca05d.csv','bank_clean.csv')\n",
    "    print('Success download')\n",
    "except Exception as e:\n",
    "    print('Data load error: ',e)\n",
    "    \n",
    "try:\n",
    "    model_data = pd.read_csv('./bank_clean.csv', index_col=0)\n",
    "    print('Success - download to dataframe')\n",
    "except Exception as e:\n",
    "    print('Error : ',e)"
   ]
  },
  {
   "cell_type": "code",
   "execution_count": 13,
   "id": "4859fcd7",
   "metadata": {},
   "outputs": [
    {
     "name": "stdout",
     "output_type": "stream",
     "text": [
      "(28831, 61) (12357, 61)\n"
     ]
    }
   ],
   "source": [
    "# Train-Test split\n",
    "train_data, test_data = np.split(model_data.sample(frac=1,random_state=42), [int(0.7 * len(model_data))])\n",
    "print(train_data.shape, test_data.shape)"
   ]
  },
  {
   "cell_type": "code",
   "execution_count": 17,
   "id": "844d0893",
   "metadata": {},
   "outputs": [],
   "source": [
    "### Saving Train Into Buckets\n",
    "## training data starts from dependent features\n",
    "import os\n",
    "pd.concat([train_data['y_yes'], train_data.drop(['y_no', 'y_yes'], \n",
    "                                                axis=1)], \n",
    "                                                axis=1).to_csv('train.csv', index=False, header=False)\n",
    "boto3.Session().resource('s3').Bucket(bucket_name).Object(os.path.join(prefix, 'train/train.csv')).upload_file('train.csv')\n",
    "s3_input_train = sagemaker.TrainingInput(s3_data='s3://{}/{}/train'.format(bucket_name, prefix), content_type='csv')"
   ]
  },
  {
   "cell_type": "code",
   "execution_count": 29,
   "id": "1902edce",
   "metadata": {},
   "outputs": [],
   "source": [
    "### Saving Test Into Buckets\n",
    "## test data starts from dependent features\n",
    "import os\n",
    "pd.concat([test_data['y_yes'], test_data.drop(['y_no', 'y_yes'], axis=1)],axis=1).to_csv('test.csv', index=False, header=False)\n",
    "boto3.Session().resource('s3').Bucket(bucket_name).Object(os.path.join(prefix, 'test/test.csv')).upload_file('train.csv')\n",
    "s3_input_test = sagemaker.TrainingInput(s3_data='s3://{}/{}/train'.format(bucket_name, prefix), content_type='csv')"
   ]
  },
  {
   "cell_type": "markdown",
   "id": "ac59fda6",
   "metadata": {},
   "source": [
    "## Building and Training XGB- inbuilt algorithm"
   ]
  },
  {
   "cell_type": "code",
   "execution_count": 21,
   "id": "d9a78a4f",
   "metadata": {},
   "outputs": [
    {
     "name": "stderr",
     "output_type": "stream",
     "text": [
      "The method get_image_uri has been renamed in sagemaker>=2.\n",
      "See: https://sagemaker.readthedocs.io/en/stable/v2.html for details.\n"
     ]
    }
   ],
   "source": [
    "# in-built Algorithm is stored in the form of container/image. We have to pull that image/container in our instance\n",
    "\n",
    "# this line automatically looks for the XGBoost image URI and builds an XGBoost container.\n",
    "# specify the repo_version depending on your preference.\n",
    "container = get_image_uri(boto3.Session().region_name,'xgboost', repo_version='1.0-1')"
   ]
  },
  {
   "cell_type": "code",
   "execution_count": 22,
   "id": "93f53f45",
   "metadata": {
    "scrolled": true
   },
   "outputs": [
    {
     "data": {
      "text/plain": [
       "'746614075791.dkr.ecr.us-west-1.amazonaws.com/sagemaker-xgboost:1.0-1-cpu-py3'"
      ]
     },
     "execution_count": 22,
     "metadata": {},
     "output_type": "execute_result"
    }
   ],
   "source": [
    "container"
   ]
  },
  {
   "cell_type": "code",
   "execution_count": 23,
   "id": "d6b4c912",
   "metadata": {},
   "outputs": [],
   "source": [
    "# initializing hyperparamters - do not do it in here - billing charger might happen\n",
    "#hyperparamter in local machine and then final parameters here\n",
    "\n",
    "hyperparameters = {\n",
    "        \"max_depth\":\"5\",\n",
    "        \"eta\":\"0.2\",\n",
    "        \"gamma\":\"4\",\n",
    "        \"min_child_weight\":\"6\",\n",
    "        \"subsample\":\"0.7\",\n",
    "        \"objective\":\"binary:logistic\",\n",
    "        \"num_round\":50\n",
    "        }"
   ]
  },
  {
   "cell_type": "code",
   "execution_count": 26,
   "id": "66a480e9",
   "metadata": {},
   "outputs": [
    {
     "name": "stderr",
     "output_type": "stream",
     "text": [
      "train_instance_count has been renamed in sagemaker>=2.\n",
      "See: https://sagemaker.readthedocs.io/en/stable/v2.html for details.\n",
      "train_instance_type has been renamed in sagemaker>=2.\n",
      "See: https://sagemaker.readthedocs.io/en/stable/v2.html for details.\n",
      "train_max_run has been renamed in sagemaker>=2.\n",
      "See: https://sagemaker.readthedocs.io/en/stable/v2.html for details.\n",
      "train_use_spot_instances has been renamed in sagemaker>=2.\n",
      "See: https://sagemaker.readthedocs.io/en/stable/v2.html for details.\n",
      "train_max_wait has been renamed in sagemaker>=2.\n",
      "See: https://sagemaker.readthedocs.io/en/stable/v2.html for details.\n",
      "train_volume_size has been renamed in sagemaker>=2.\n",
      "See: https://sagemaker.readthedocs.io/en/stable/v2.html for details.\n"
     ]
    }
   ],
   "source": [
    "# construct a SageMaker estimator that calls the xgboost-container\n",
    "estimator = sagemaker.estimator.Estimator(image_uri=container, #xgb container\n",
    "                                          hyperparameters=hyperparameters,\n",
    "                                          role=sagemaker.get_execution_role(), #knowing role to access s3 buckets\n",
    "                                          train_instance_count=1, \n",
    "                                          train_instance_type='ml.m5.2xlarge', \n",
    "                                          train_volume_size=5, # 5 GB \n",
    "                                          output_path=output_path, #output path saved\n",
    "                                          train_use_spot_instances=True,\n",
    "                                          train_max_run=300,\n",
    "                                          train_max_wait=600) # last 3 params reduces the billing time"
   ]
  },
  {
   "cell_type": "code",
   "execution_count": 27,
   "id": "ad3a7be5",
   "metadata": {},
   "outputs": [
    {
     "data": {
      "text/plain": [
       "<sagemaker.estimator.Estimator at 0x7f708b72c100>"
      ]
     },
     "execution_count": 27,
     "metadata": {},
     "output_type": "execute_result"
    }
   ],
   "source": [
    "estimator"
   ]
  },
  {
   "cell_type": "code",
   "execution_count": 30,
   "id": "1e8f2f6d",
   "metadata": {},
   "outputs": [
    {
     "name": "stdout",
     "output_type": "stream",
     "text": [
      "2022-12-08 06:44:52 Starting - Starting the training job...\n",
      "2022-12-08 06:45:15 Starting - Preparing the instances for trainingProfilerReport-1670481892: InProgress\n",
      ".........\n",
      "2022-12-08 06:46:43 Downloading - Downloading input data..\u001b[34mINFO:sagemaker-containers:Imported framework sagemaker_xgboost_container.training\u001b[0m\n",
      "\u001b[34mINFO:sagemaker-containers:Failed to parse hyperparameter objective value binary:logistic to Json.\u001b[0m\n",
      "\u001b[34mReturning the value itself\u001b[0m\n",
      "\u001b[34mINFO:sagemaker-containers:No GPUs detected (normal if no gpus installed)\u001b[0m\n",
      "\u001b[34mINFO:sagemaker_xgboost_container.training:Running XGBoost Sagemaker in algorithm mode\u001b[0m\n",
      "\u001b[34mINFO:root:Determined delimiter of CSV input is ','\u001b[0m\n",
      "\u001b[34mINFO:root:Determined delimiter of CSV input is ','\u001b[0m\n",
      "\u001b[34mINFO:root:Determined delimiter of CSV input is ','\u001b[0m\n",
      "\u001b[34m[06:47:00] 28831x59 matrix with 1701029 entries loaded from /opt/ml/input/data/train?format=csv&label_column=0&delimiter=,\u001b[0m\n",
      "\u001b[34mINFO:root:Determined delimiter of CSV input is ','\u001b[0m\n",
      "\u001b[34m[06:47:00] 28831x59 matrix with 1701029 entries loaded from /opt/ml/input/data/validation?format=csv&label_column=0&delimiter=,\u001b[0m\n",
      "\u001b[34mINFO:root:Single node training.\u001b[0m\n",
      "\u001b[34m[2022-12-08 06:47:00.799 ip-10-0-134-13.us-west-1.compute.internal:7 INFO json_config.py:90] Creating hook from json_config at /opt/ml/input/config/debughookconfig.json.\u001b[0m\n",
      "\u001b[34m[2022-12-08 06:47:00.799 ip-10-0-134-13.us-west-1.compute.internal:7 INFO hook.py:151] tensorboard_dir has not been set for the hook. SMDebug will not be exporting tensorboard summaries.\u001b[0m\n",
      "\u001b[34m[2022-12-08 06:47:00.799 ip-10-0-134-13.us-west-1.compute.internal:7 INFO hook.py:196] Saving to /opt/ml/output/tensors\u001b[0m\n",
      "\u001b[34mINFO:root:Debug hook created from config\u001b[0m\n",
      "\u001b[34mINFO:root:Train matrix has 28831 rows\u001b[0m\n",
      "\u001b[34mINFO:root:Validation matrix has 28831 rows\u001b[0m\n",
      "\u001b[34m[06:47:00] WARNING: /workspace/src/learner.cc:328: \u001b[0m\n",
      "\u001b[34mParameters: { num_round } might not be used.\n",
      "  This may not be accurate due to some parameters are only used in language bindings but\n",
      "  passed down to XGBoost core.  Or some parameters are not used but slip through this\n",
      "  verification. Please open an issue if you find above cases.\u001b[0m\n",
      "\u001b[34m[0]#011train-error:0.10170#011validation-error:0.10170\u001b[0m\n",
      "\u001b[34m[2022-12-08 06:47:00.849 ip-10-0-134-13.us-west-1.compute.internal:7 INFO hook.py:325] Monitoring the collections: metrics\u001b[0m\n",
      "\u001b[34m[1]#011train-error:0.10093#011validation-error:0.10093\u001b[0m\n",
      "\u001b[34m[2]#011train-error:0.10014#011validation-error:0.10014\u001b[0m\n",
      "\u001b[34m[3]#011train-error:0.09972#011validation-error:0.09972\u001b[0m\n",
      "\u001b[34m[4]#011train-error:0.10010#011validation-error:0.10010\u001b[0m\n",
      "\u001b[34m[5]#011train-error:0.10055#011validation-error:0.10055\u001b[0m\n",
      "\u001b[34m[6]#011train-error:0.10052#011validation-error:0.10052\u001b[0m\n",
      "\u001b[34m[7]#011train-error:0.10038#011validation-error:0.10038\u001b[0m\n",
      "\u001b[34m[8]#011train-error:0.10010#011validation-error:0.10010\u001b[0m\n",
      "\u001b[34m[9]#011train-error:0.10017#011validation-error:0.10017\u001b[0m\n",
      "\u001b[34m[10]#011train-error:0.10048#011validation-error:0.10048\u001b[0m\n",
      "\u001b[34m[11]#011train-error:0.10000#011validation-error:0.10000\u001b[0m\n",
      "\u001b[34m[12]#011train-error:0.10010#011validation-error:0.10010\u001b[0m\n",
      "\u001b[34m[13]#011train-error:0.10055#011validation-error:0.10055\u001b[0m\n",
      "\u001b[34m[14]#011train-error:0.10034#011validation-error:0.10034\u001b[0m\n",
      "\u001b[34m[15]#011train-error:0.09996#011validation-error:0.09996\u001b[0m\n",
      "\u001b[34m[16]#011train-error:0.09986#011validation-error:0.09986\u001b[0m\n",
      "\u001b[34m[17]#011train-error:0.09968#011validation-error:0.09968\u001b[0m\n",
      "\u001b[34m[18]#011train-error:0.09965#011validation-error:0.09965\u001b[0m\n",
      "\u001b[34m[19]#011train-error:0.09920#011validation-error:0.09920\u001b[0m\n",
      "\u001b[34m[20]#011train-error:0.09899#011validation-error:0.09899\u001b[0m\n",
      "\u001b[34m[21]#011train-error:0.09899#011validation-error:0.09899\u001b[0m\n",
      "\u001b[34m[22]#011train-error:0.09913#011validation-error:0.09913\u001b[0m\n",
      "\u001b[34m[23]#011train-error:0.09896#011validation-error:0.09896\u001b[0m\n",
      "\u001b[34m[24]#011train-error:0.09882#011validation-error:0.09882\u001b[0m\n",
      "\u001b[34m[25]#011train-error:0.09889#011validation-error:0.09889\u001b[0m\n",
      "\u001b[34m[26]#011train-error:0.09871#011validation-error:0.09871\u001b[0m\n",
      "\u001b[34m[27]#011train-error:0.09868#011validation-error:0.09868\u001b[0m\n",
      "\u001b[34m[28]#011train-error:0.09899#011validation-error:0.09899\u001b[0m\n",
      "\u001b[34m[29]#011train-error:0.09868#011validation-error:0.09868\u001b[0m\n",
      "\u001b[34m[30]#011train-error:0.09847#011validation-error:0.09847\u001b[0m\n",
      "\u001b[34m[31]#011train-error:0.09833#011validation-error:0.09833\u001b[0m\n",
      "\u001b[34m[32]#011train-error:0.09830#011validation-error:0.09830\u001b[0m\n",
      "\u001b[34m[33]#011train-error:0.09809#011validation-error:0.09809\u001b[0m\n",
      "\u001b[34m[34]#011train-error:0.09819#011validation-error:0.09819\u001b[0m\n",
      "\u001b[34m[35]#011train-error:0.09830#011validation-error:0.09830\u001b[0m\n",
      "\u001b[34m[36]#011train-error:0.09837#011validation-error:0.09837\u001b[0m\n",
      "\u001b[34m[37]#011train-error:0.09844#011validation-error:0.09844\u001b[0m\n",
      "\u001b[34m[38]#011train-error:0.09847#011validation-error:0.09847\u001b[0m\n",
      "\u001b[34m[39]#011train-error:0.09882#011validation-error:0.09882\u001b[0m\n",
      "\u001b[34m[40]#011train-error:0.09844#011validation-error:0.09844\u001b[0m\n",
      "\u001b[34m[41]#011train-error:0.09830#011validation-error:0.09830\u001b[0m\n",
      "\u001b[34m[42]#011train-error:0.09816#011validation-error:0.09816\u001b[0m\n",
      "\u001b[34m[43]#011train-error:0.09809#011validation-error:0.09809\u001b[0m\n",
      "\u001b[34m[44]#011train-error:0.09812#011validation-error:0.09812\u001b[0m\n",
      "\u001b[34m[45]#011train-error:0.09805#011validation-error:0.09805\u001b[0m\n",
      "\u001b[34m[46]#011train-error:0.09785#011validation-error:0.09785\u001b[0m\n",
      "\u001b[34m[47]#011train-error:0.09778#011validation-error:0.09778\u001b[0m\n",
      "\u001b[34m[48]#011train-error:0.09795#011validation-error:0.09795\u001b[0m\n",
      "\u001b[34m[49]#011train-error:0.09778#011validation-error:0.09778\u001b[0m\n",
      "\n",
      "2022-12-08 06:47:20 Training - Training image download completed. Training in progress.\n",
      "2022-12-08 06:47:20 Uploading - Uploading generated training model\n",
      "2022-12-08 06:47:20 Completed - Training job completed\n",
      "Training seconds: 37\n",
      "Billable seconds: 11\n",
      "Managed Spot Training savings: 70.3%\n"
     ]
    }
   ],
   "source": [
    "estimator.fit({'train': s3_input_train,'validation': s3_input_test})"
   ]
  },
  {
   "cell_type": "markdown",
   "id": "98ca2f3a",
   "metadata": {},
   "source": [
    "## Deploy ML mdel"
   ]
  },
  {
   "cell_type": "code",
   "execution_count": 31,
   "id": "9e86e8e2",
   "metadata": {},
   "outputs": [
    {
     "name": "stdout",
     "output_type": "stream",
     "text": [
      "-----!"
     ]
    }
   ],
   "source": [
    "xgb_predictor = estimator.deploy(initial_instance_count=1, instance_type='ml.m4.xlarge')\n",
    "#initial instance - how many parallel instances we want ; specifying type of it"
   ]
  },
  {
   "cell_type": "markdown",
   "id": "b030539d",
   "metadata": {},
   "source": [
    "#### Prediction of the Test Data"
   ]
  },
  {
   "cell_type": "code",
   "execution_count": null,
   "id": "b0a4c622",
   "metadata": {},
   "outputs": [],
   "source": [
    "test_data_array = test_data.drop(['y_no', 'y_yes'], axis=1).values #load the data into an array\n",
    "#xgb_predictor.content_type = 'text/csv' # set the data type for an inference\n",
    "xgb_predictor.serializer = csv_serializer # set the serializer type\n",
    "predictions = xgb_predictor.predict(test_data_array).decode('utf-8') # predict ; decoding the encoded format\n",
    "predictions_array = np.fromstring(predictions[1:], sep=',') # turn the prediction into an array\n",
    "print(predictions_array.shape)"
   ]
  },
  {
   "cell_type": "code",
   "execution_count": 35,
   "id": "5b0432f0",
   "metadata": {},
   "outputs": [
    {
     "data": {
      "text/plain": [
       "array([0.02587362, 0.02734977, 0.08641617, ..., 0.68751293, 0.04483907,\n",
       "       0.10314494])"
      ]
     },
     "execution_count": 35,
     "metadata": {},
     "output_type": "execute_result"
    }
   ],
   "source": [
    "predictions_array"
   ]
  },
  {
   "cell_type": "code",
   "execution_count": 36,
   "id": "b8c99642",
   "metadata": {},
   "outputs": [
    {
     "data": {
      "text/plain": [
       "array([0.02587362, 0.02734977, 0.08641617, ..., 0.68751293, 0.04483907,\n",
       "       0.10314494])"
      ]
     },
     "execution_count": 36,
     "metadata": {},
     "output_type": "execute_result"
    }
   ],
   "source": [
    "predictions_array"
   ]
  },
  {
   "cell_type": "markdown",
   "id": "13533820",
   "metadata": {},
   "source": [
    "### Plotting confusion matrix"
   ]
  },
  {
   "cell_type": "code",
   "execution_count": 37,
   "id": "8334c6c0",
   "metadata": {},
   "outputs": [
    {
     "name": "stdout",
     "output_type": "stream",
     "text": [
      "\n",
      "Overall Classification Rate: 89.8%\n",
      "\n",
      "Predicted      No Purchase    Purchase\n",
      "Observed\n",
      "No Purchase    91% (10809)    34% (152)\n",
      "Purchase        9% (1103)     66% (293) \n",
      "\n"
     ]
    }
   ],
   "source": [
    "cm = pd.crosstab(index=test_data['y_yes'], columns=np.round(predictions_array), rownames=['Observed'], colnames=['Predicted'])\n",
    "tn = cm.iloc[0,0]; fn = cm.iloc[1,0]; tp = cm.iloc[1,1]; fp = cm.iloc[0,1]; p = (tp+tn)/(tp+tn+fp+fn)*100\n",
    "print(\"\\n{0:<20}{1:<4.1f}%\\n\".format(\"Overall Classification Rate: \", p))\n",
    "print(\"{0:<15}{1:<15}{2:>8}\".format(\"Predicted\", \"No Purchase\", \"Purchase\"))\n",
    "print(\"Observed\")\n",
    "print(\"{0:<15}{1:<2.0f}% ({2:<}){3:>6.0f}% ({4:<})\".format(\"No Purchase\", tn/(tn+fn)*100,tn, fp/(tp+fp)*100, fp))\n",
    "print(\"{0:<16}{1:<1.0f}% ({2:<}){3:>7.0f}% ({4:<}) \\n\".format(\"Purchase\", fn/(tn+fn)*100,fn, tp/(tp+fp)*100, tp))"
   ]
  },
  {
   "cell_type": "markdown",
   "id": "56676b06",
   "metadata": {},
   "source": [
    "### Deleting the endpoints"
   ]
  },
  {
   "cell_type": "code",
   "execution_count": 38,
   "id": "59c1e0e6",
   "metadata": {},
   "outputs": [
    {
     "name": "stderr",
     "output_type": "stream",
     "text": [
      "The endpoint attribute has been renamed in sagemaker>=2.\n",
      "See: https://sagemaker.readthedocs.io/en/stable/v2.html for details.\n"
     ]
    },
    {
     "data": {
      "text/plain": [
       "[{'ResponseMetadata': {'RequestId': 'K60QYXPMJVNY6CJ3',\n",
       "   'HostId': 'o6D/dkH02v/QU3BtBZ+Ebj+0CB9LD1n+z0YPgCSpodZTGsrakHgh5OCnBkvyQVKeFvLUdfzoV+Q=',\n",
       "   'HTTPStatusCode': 200,\n",
       "   'HTTPHeaders': {'x-amz-id-2': 'o6D/dkH02v/QU3BtBZ+Ebj+0CB9LD1n+z0YPgCSpodZTGsrakHgh5OCnBkvyQVKeFvLUdfzoV+Q=',\n",
       "    'x-amz-request-id': 'K60QYXPMJVNY6CJ3',\n",
       "    'date': 'Thu, 08 Dec 2022 07:32:01 GMT',\n",
       "    'content-type': 'application/xml',\n",
       "    'transfer-encoding': 'chunked',\n",
       "    'server': 'AmazonS3',\n",
       "    'connection': 'close'},\n",
       "   'RetryAttempts': 0},\n",
       "  'Deleted': [{'Key': 'xgboost-as-a-built-in-algo/output/sagemaker-xgboost-2022-12-08-06-44-52-207/debug-output/index/000000000/000000000020_worker_0.json'},\n",
       "   {'Key': 'xgboost-as-a-built-in-algo/output/sagemaker-xgboost-2022-12-08-06-44-52-207/profiler-output/system/training_job_end.ts'},\n",
       "   {'Key': 'xgboost-as-a-built-in-algo/output/sagemaker-xgboost-2022-12-08-06-44-52-207/rule-output/ProfilerReport-1670481892/profiler-output/profiler-reports/Dataloader.json'},\n",
       "   {'Key': 'xgboost-as-a-built-in-algo/output/sagemaker-xgboost-2022-12-08-06-44-52-207/rule-output/ProfilerReport-1670481892/profiler-output/profiler-reports/OverallSystemUsage.json'},\n",
       "   {'Key': 'xgboost-as-a-built-in-algo/output/sagemaker-xgboost-2022-12-08-06-44-52-207/profiler-output/system/incremental/2022120806/1670482020.algo-1.json'},\n",
       "   {'Key': 'xgboost-as-a-built-in-algo/output/sagemaker-xgboost-2022-12-08-06-44-52-207/rule-output/ProfilerReport-1670481892/profiler-output/profiler-reports/OverallFrameworkMetrics.json'},\n",
       "   {'Key': 'xgboost-as-a-built-in-algo/output/sagemaker-xgboost-2022-12-08-06-44-52-207/profiler-output/system/incremental/2022120806/1670481960.algo-1.json'},\n",
       "   {'Key': 'xgboost-as-a-built-in-algo/output/sagemaker-xgboost-2022-12-08-06-44-52-207/debug-output/events/000000000020/000000000020_worker_0.tfevents'},\n",
       "   {'Key': 'xgboost-as-a-built-in-algo/output/sagemaker-xgboost-2022-12-08-06-44-52-207/debug-output/training_job_end.ts'},\n",
       "   {'Key': 'xgboost-as-a-built-in-algo/output/sagemaker-xgboost-2022-12-08-06-44-52-207/output/model.tar.gz'},\n",
       "   {'Key': 'xgboost-as-a-built-in-algo/output/sagemaker-xgboost-2022-12-08-06-44-52-207/rule-output/ProfilerReport-1670481892/profiler-output/profiler-reports/LowGPUUtilization.json'},\n",
       "   {'Key': 'xgboost-as-a-built-in-algo/output/sagemaker-xgboost-2022-12-08-06-44-52-207/rule-output/ProfilerReport-1670481892/profiler-output/profiler-reports/IOBottleneck.json'},\n",
       "   {'Key': 'xgboost-as-a-built-in-algo/output/sagemaker-xgboost-2022-12-08-06-44-52-207/debug-output/index/000000000/000000000010_worker_0.json'},\n",
       "   {'Key': 'xgboost-as-a-built-in-algo/output/sagemaker-xgboost-2022-12-08-06-44-52-207/debug-output/events/000000000000/000000000000_worker_0.tfevents'},\n",
       "   {'Key': 'xgboost-as-a-built-in-algo/output/sagemaker-xgboost-2022-12-08-06-44-52-207/rule-output/ProfilerReport-1670481892/profiler-output/profiler-reports/BatchSize.json'},\n",
       "   {'Key': 'xgboost-as-a-built-in-algo/output/sagemaker-xgboost-2022-12-08-06-44-52-207/rule-output/ProfilerReport-1670481892/profiler-output/profiler-reports/GPUMemoryIncrease.json'},\n",
       "   {'Key': 'xgboost-as-a-built-in-algo/output/sagemaker-xgboost-2022-12-08-06-44-52-207/debug-output/index/000000000/000000000040_worker_0.json'},\n",
       "   {'Key': 'xgboost-as-a-built-in-algo/output/sagemaker-xgboost-2022-12-08-06-44-52-207/rule-output/ProfilerReport-1670481892/profiler-output/profiler-reports/StepOutlier.json'},\n",
       "   {'Key': 'xgboost-as-a-built-in-algo/output/sagemaker-xgboost-2022-12-08-06-44-52-207/rule-output/ProfilerReport-1670481892/profiler-output/profiler-report.ipynb'},\n",
       "   {'Key': 'xgboost-as-a-built-in-algo/output/sagemaker-xgboost-2022-12-08-06-44-52-207/debug-output/events/000000000030/000000000030_worker_0.tfevents'},\n",
       "   {'Key': 'xgboost-as-a-built-in-algo/output/sagemaker-xgboost-2022-12-08-06-44-52-207/debug-output/events/000000000040/000000000040_worker_0.tfevents'},\n",
       "   {'Key': 'xgboost-as-a-built-in-algo/output/sagemaker-xgboost-2022-12-08-06-44-52-207/debug-output/index/000000000/000000000000_worker_0.json'},\n",
       "   {'Key': 'xgboost-as-a-built-in-algo/train/train.csv'},\n",
       "   {'Key': 'xgboost-as-a-built-in-algo/output/sagemaker-xgboost-2022-12-08-06-44-52-207/profiler-output/framework/training_job_end.ts'},\n",
       "   {'Key': 'xgboost-as-a-built-in-algo/output/sagemaker-xgboost-2022-12-08-06-44-52-207/rule-output/ProfilerReport-1670481892/profiler-output/profiler-reports/CPUBottleneck.json'},\n",
       "   {'Key': 'xgboost-as-a-built-in-algo/output/sagemaker-xgboost-2022-12-08-06-44-52-207/debug-output/events/000000000010/000000000010_worker_0.tfevents'},\n",
       "   {'Key': 'xgboost-as-a-built-in-algo/output/sagemaker-xgboost-2022-12-08-06-44-52-207/rule-output/ProfilerReport-1670481892/profiler-output/profiler-reports/LoadBalancing.json'},\n",
       "   {'Key': 'xgboost-as-a-built-in-algo/test/test.csv'},\n",
       "   {'Key': 'xgboost-as-a-built-in-algo/output/sagemaker-xgboost-2022-12-08-06-44-52-207/debug-output/index/000000000/000000000030_worker_0.json'},\n",
       "   {'Key': 'xgboost-as-a-built-in-algo/output/sagemaker-xgboost-2022-12-08-06-44-52-207/rule-output/ProfilerReport-1670481892/profiler-output/profiler-report.html'},\n",
       "   {'Key': 'xgboost-as-a-built-in-algo/output/sagemaker-xgboost-2022-12-08-06-44-52-207/rule-output/ProfilerReport-1670481892/profiler-output/profiler-reports/MaxInitializationTime.json'},\n",
       "   {'Key': 'xgboost-as-a-built-in-algo/output/sagemaker-xgboost-2022-12-08-06-44-52-207/debug-output/collections/000000000/worker_0_collections.json'}]}]"
      ]
     },
     "execution_count": 38,
     "metadata": {},
     "output_type": "execute_result"
    }
   ],
   "source": [
    "sagemaker.Session().delete_endpoint(xgb_predictor.endpoint)\n",
    "bucket_to_delete = boto3.resource('s3').Bucket(bucket_name)\n",
    "bucket_to_delete.objects.all().delete()"
   ]
  },
  {
   "cell_type": "code",
   "execution_count": null,
   "id": "52fd9ed9",
   "metadata": {},
   "outputs": [],
   "source": []
  }
 ],
 "metadata": {
  "kernelspec": {
   "display_name": "conda_python3",
   "language": "python",
   "name": "conda_python3"
  },
  "language_info": {
   "codemirror_mode": {
    "name": "ipython",
    "version": 3
   },
   "file_extension": ".py",
   "mimetype": "text/x-python",
   "name": "python",
   "nbconvert_exporter": "python",
   "pygments_lexer": "ipython3",
   "version": "3.8.12"
  }
 },
 "nbformat": 4,
 "nbformat_minor": 5
}
